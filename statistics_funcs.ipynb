{
  "nbformat": 4,
  "nbformat_minor": 0,
  "metadata": {
    "colab": {
      "name": "practicing_statistics.ipynb",
      "provenance": [],
      "authorship_tag": "ABX9TyPkj786NbZEaz2WBdYkJgz7",
      "include_colab_link": true
    },
    "kernelspec": {
      "name": "python3",
      "display_name": "Python 3"
    }
  },
  "cells": [
    {
      "cell_type": "markdown",
      "metadata": {
        "id": "view-in-github",
        "colab_type": "text"
      },
      "source": [
        "<a href=\"https://colab.research.google.com/github/gmaragao/practicing_data_science/blob/main/statistics_funcs.ipynb\" target=\"_parent\"><img src=\"https://colab.research.google.com/assets/colab-badge.svg\" alt=\"Open In Colab\"/></a>"
      ]
    },
    {
      "cell_type": "code",
      "metadata": {
        "id": "tyaEwsai2qJ5"
      },
      "source": [
        "import math\n",
        "def mean(x):\n",
        "  n = len(x)\n",
        "  sum = 0\n",
        "  for index in range(n):\n",
        "    sum += x[index]\n",
        "  return sum/(n-1)\n",
        "\n",
        "\n",
        "def dot(v, w):\n",
        "  return sum(v_i * w_i\n",
        "  for v_i, w_i in zip(v, w))\n",
        "\n",
        "def de_mean(x):\n",
        "  x_bar = mean(x)\n",
        "  return [x_i - x_bar for x_i in x]\n",
        "\n",
        "def variance(x):\n",
        "  n = len(x)\n",
        "  deviations = de_mean(x)\n",
        "  squares = [pow(x_index, 2) for x_index in deviations]\n",
        "  sum_of_squares = sum(squares)\n",
        "  return sum_of_squares/(n-1)\n",
        "\n",
        "def standard_deviation(x):\n",
        "  return math.sqrt(variance(x))\n",
        "\n",
        "def covariance(x, y):\n",
        "  n = len(x)\n",
        "  return dot(de_mean(x), de_mean(y)) / (n - 1)"
      ],
      "execution_count": 64,
      "outputs": []
    },
    {
      "cell_type": "code",
      "metadata": {
        "colab": {
          "base_uri": "https://localhost:8080/"
        },
        "id": "zqzniI0O27O7",
        "outputId": "a8ab293c-c147-47bf-8a95-c53dc34048b8"
      },
      "source": [
        ""
      ],
      "execution_count": 63,
      "outputs": [
        {
          "output_type": "execute_result",
          "data": {
            "text/plain": [
              "5"
            ]
          },
          "metadata": {
            "tags": []
          },
          "execution_count": 63
        }
      ]
    },
    {
      "cell_type": "code",
      "metadata": {
        "id": "XM6KBWQZ9eNw"
      },
      "source": [
        ""
      ],
      "execution_count": null,
      "outputs": []
    }
  ]
}